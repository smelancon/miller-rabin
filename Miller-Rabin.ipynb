{
 "cells": [
  {
   "cell_type": "code",
   "execution_count": 1,
   "metadata": {
    "collapsed": true
   },
   "outputs": [],
   "source": [
    "import math\n",
    "\n",
    "def miller_rabin(n, i):\n",
    "#Determines the probability that a natural number n is prime after i < n-2 iterations of the Miller-Rabin Primality Test. \n",
    "# If n is found to be composite, the function will print a factor of n or a Miller-Rabin witness. If not, it will print \n",
    "# the probability that n is prime.\n",
    "    if(not isinstance(n, int) or n <= 0):\n",
    "        print('n must be a natural number')\n",
    "        return\n",
    "    \n",
    "    if(not isinstance(i, int) or i >= n - 2):\n",
    "        print('i must be a natural number less than n-2')\n",
    "        return\n",
    "    \n",
    "    k = 0\n",
    "    q = n-1\n",
    "    while(q % 2 == 0):\n",
    "        q = int(q / 2)\n",
    "        k += 1\n",
    "    \n",
    "    a = 2\n",
    "    while(a <= (2 + i)):\n",
    "        witness = True\n",
    "        \n",
    "        if(math.gcd(a, n) != 1):\n",
    "            print(str(n) + ' is composite and ' + str(math.gcd(a,n)) + ' is a factor')\n",
    "            return\n",
    "        \n",
    "        if((pow(a, q, n) - 1) % n == 0 or (pow(a, q, n) + 1) % n == 0):\n",
    "            witness = False\n",
    "        \n",
    "        j = 1\n",
    "        while(j < k):\n",
    "            if((pow(a, 2 ** j * q, n) + 1) % n == 0):\n",
    "                witness = False\n",
    "            j +=1\n",
    "        \n",
    "        if(witness == True):\n",
    "            print(str(n) + ' is composite and ' + str(a) + ' is a Miller-Rabin witness')\n",
    "            return\n",
    "        \n",
    "        a += 1\n",
    "    \n",
    "    print(str(n) + ' is prime with probability ' + str(1 - (.25 ** i)))"
   ]
  },
  {
   "cell_type": "code",
   "execution_count": 2,
   "metadata": {},
   "outputs": [
    {
     "name": "stdout",
     "output_type": "stream",
     "text": [
      "751 is prime with probability 0.75\n"
     ]
    }
   ],
   "source": [
    "miller_rabin(751,1)"
   ]
  },
  {
   "cell_type": "code",
   "execution_count": 3,
   "metadata": {},
   "outputs": [
    {
     "name": "stdout",
     "output_type": "stream",
     "text": [
      "751 is prime with probability 0.9990234375\n"
     ]
    }
   ],
   "source": [
    "miller_rabin(751,5)"
   ]
  },
  {
   "cell_type": "code",
   "execution_count": 4,
   "metadata": {},
   "outputs": [
    {
     "name": "stdout",
     "output_type": "stream",
     "text": [
      "751 is prime with probability 0.9999990463256836\n"
     ]
    }
   ],
   "source": [
    "miller_rabin(751,10)"
   ]
  },
  {
   "cell_type": "code",
   "execution_count": 5,
   "metadata": {},
   "outputs": [
    {
     "name": "stdout",
     "output_type": "stream",
     "text": [
      "561 is composite and 2 is a Miller-Rabin witness\n"
     ]
    }
   ],
   "source": [
    "miller_rabin(561,2)"
   ]
  }
 ],
 "metadata": {
  "kernelspec": {
   "display_name": "Python 3",
   "language": "python",
   "name": "python3"
  },
  "language_info": {
   "codemirror_mode": {
    "name": "ipython",
    "version": 3
   },
   "file_extension": ".py",
   "mimetype": "text/x-python",
   "name": "python",
   "nbconvert_exporter": "python",
   "pygments_lexer": "ipython3",
   "version": "3.6.3"
  }
 },
 "nbformat": 4,
 "nbformat_minor": 2
}
